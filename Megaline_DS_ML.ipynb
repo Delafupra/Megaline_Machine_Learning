{
 "cells": [
  {
   "cell_type": "markdown",
   "metadata": {},
   "source": [
    "¡Hola Diego! Como te va?\n",
    "\n",
    "Mi nombre es Facundo Lozano! Un gusto conocerte, seré tu revisor en este proyecto.\n",
    "\n",
    "A continuación un poco sobre la modalidad de revisión que usaremos:\n",
    "\n",
    "Cuando enccuentro un error por primera vez, simplemente lo señalaré, te dejaré encontrarlo y arreglarlo tú cuenta. Además, a lo largo del texto iré haciendo algunas observaciones sobre mejora en tu código y también haré comentarios sobre tus percepciones sobre el tema. Pero si aún no puedes realizar esta tarea, te daré una pista más precisa en la próxima iteración y también algunos ejemplos prácticos. Estaré abierto a comentarios y discusiones sobre el tema.\n",
    "\n",
    "Encontrará mis comentarios a continuación: **no los mueva, modifique ni elimine**.\n",
    "\n",
    "Puedes encontrar mis comentarios en cuadros verdes, amarillos o rojos como este:\n",
    "\n",
    "<div class=\"alert alert-block alert-success\">\n",
    "<b>Comentario del revisor.</b> <a class=\"tocSkip\"></a>\n",
    "\n",
    "Exito. Todo se ha hecho de forma exitosa.\n",
    "</div>\n",
    "\n",
    "<div class=\"alert alert-block alert-warning\">\n",
    "<b>Comentario del revisor.</b> <a class=\"tocSkip\"></a>\n",
    "\n",
    "Observación. Algunas recomendaciones.\n",
    "</div>\n",
    "\n",
    "<div class=\"alert alert-block alert-danger\">\n",
    "\n",
    "<b>Comentario del revisor.</b> <a class=\"tocSkip\"></a>\n",
    "\n",
    "Necesita arreglos. Este apartado necesita algunas correcciones. El trabajo no puede ser aceptado con comentarios rojos. \n",
    "</div>\n",
    "\n",
    "Puedes responder utilizando esto:\n",
    "\n",
    "<div class=\"alert alert-block alert-info\">\n",
    "<b>Respuesta de estudiante.</b> <a class=\"tocSkip\"></a>\n",
    "</div>"
   ]
  },
  {
   "cell_type": "markdown",
   "metadata": {},
   "source": [
    "Introducción\n",
    "\n",
    "Crearemos un algortimo de machine learning que le ayude a la empresa Megaline a analizar el comportamiento de sus clientes para así poder recomendarles un plan: Smart o Ultra"
   ]
  },
  {
   "cell_type": "markdown",
   "metadata": {},
   "source": [
    "<div class=\"alert alert-block alert-success\">\n",
    "<b>Review General. (Iteración 2) </b> <a class=\"tocSkip\"></a>\n",
    "\n",
    "Hola Diego! Felicitaciones porque has corregido los detalles marcados en nuestra iteración anterior. Ahora si este proyecto está en total condiciones de ser aprobado, bien hecho!\n",
    "    \n",
    "Éxitos en tu camino dentro del mundo de los datos y saludos!"
   ]
  },
  {
   "cell_type": "markdown",
   "metadata": {},
   "source": [
    "<div class=\"alert alert-block alert-success\">\n",
    "<b>Review General. (Iteración 1) </b> <a class=\"tocSkip\"></a>\n",
    "\n",
    "Buenas Diego! Siempre me tomo este tiempo al inicio de tu proyecto para comentarte mis apreciaciones generales de esta iteración de tu entrega.  Antes que nada disculpa por las demoras, debido a la alta demanda en proyectos de alto nivel y la poca disponibilidad de revisores para los mismos en estos momentos se han demorado algunos proyectos. A partir de este momento seré tu revisor, espero serte de ayuda :)\n",
    "\n",
    "Me gusta comenzar dando la bienvenida al mundo de los datos a los estudiantes, te deseo lo mejor y espero que consigas lograr tus objetivos. Personalmente me gusta brindar el siguiente consejo, \"Está bien equivocarse, es normal y es lo mejor que te puede pasar. Aprendemos de los errores y eso te hará mejor programando ya que podrás descubrir cosas a medida que avances y son estas cosas las que te darán esa experiencia para ser un mejor  Data Scientist\"\n",
    "\n",
    "Ahora si yendo a esta notebook. Quería felicitarte Diego porque has realizado la mayoría de las implementaciones necesarisa y se ha notado tu manejo sobre python y las herramientas ML utilizadas. Muy bien hecho! Solo hemos tenido unos detalles pero que no nos deberían demorar tanto corregir.\n",
    "\n",
    "Espero con ansias a nuestra próxima iteración Diego, exitos y saludos!"
   ]
  },
  {
   "cell_type": "markdown",
   "metadata": {},
   "source": [
    "# 1.- Abrir y examinar archivo"
   ]
  },
  {
   "cell_type": "code",
   "execution_count": 1,
   "metadata": {},
   "outputs": [],
   "source": [
    "import pandas as pd\n",
    "from sklearn.model_selection import train_test_split\n",
    "from sklearn.linear_model import LogisticRegression\n",
    "from sklearn.tree import DecisionTreeClassifier\n",
    "from sklearn.ensemble import RandomForestClassifier\n",
    "from sklearn.metrics import accuracy_score"
   ]
  },
  {
   "cell_type": "code",
   "execution_count": 2,
   "metadata": {},
   "outputs": [],
   "source": [
    "df = pd.read_csv('/datasets/users_behavior.csv')"
   ]
  },
  {
   "cell_type": "code",
   "execution_count": 3,
   "metadata": {},
   "outputs": [
    {
     "data": {
      "text/html": [
       "<div>\n",
       "<style scoped>\n",
       "    .dataframe tbody tr th:only-of-type {\n",
       "        vertical-align: middle;\n",
       "    }\n",
       "\n",
       "    .dataframe tbody tr th {\n",
       "        vertical-align: top;\n",
       "    }\n",
       "\n",
       "    .dataframe thead th {\n",
       "        text-align: right;\n",
       "    }\n",
       "</style>\n",
       "<table border=\"1\" class=\"dataframe\">\n",
       "  <thead>\n",
       "    <tr style=\"text-align: right;\">\n",
       "      <th></th>\n",
       "      <th>calls</th>\n",
       "      <th>minutes</th>\n",
       "      <th>messages</th>\n",
       "      <th>mb_used</th>\n",
       "      <th>is_ultra</th>\n",
       "    </tr>\n",
       "  </thead>\n",
       "  <tbody>\n",
       "    <tr>\n",
       "      <th>0</th>\n",
       "      <td>40.0</td>\n",
       "      <td>311.90</td>\n",
       "      <td>83.0</td>\n",
       "      <td>19915.42</td>\n",
       "      <td>0</td>\n",
       "    </tr>\n",
       "    <tr>\n",
       "      <th>1</th>\n",
       "      <td>85.0</td>\n",
       "      <td>516.75</td>\n",
       "      <td>56.0</td>\n",
       "      <td>22696.96</td>\n",
       "      <td>0</td>\n",
       "    </tr>\n",
       "    <tr>\n",
       "      <th>2</th>\n",
       "      <td>77.0</td>\n",
       "      <td>467.66</td>\n",
       "      <td>86.0</td>\n",
       "      <td>21060.45</td>\n",
       "      <td>0</td>\n",
       "    </tr>\n",
       "    <tr>\n",
       "      <th>3</th>\n",
       "      <td>106.0</td>\n",
       "      <td>745.53</td>\n",
       "      <td>81.0</td>\n",
       "      <td>8437.39</td>\n",
       "      <td>1</td>\n",
       "    </tr>\n",
       "    <tr>\n",
       "      <th>4</th>\n",
       "      <td>66.0</td>\n",
       "      <td>418.74</td>\n",
       "      <td>1.0</td>\n",
       "      <td>14502.75</td>\n",
       "      <td>0</td>\n",
       "    </tr>\n",
       "  </tbody>\n",
       "</table>\n",
       "</div>"
      ],
      "text/plain": [
       "   calls  minutes  messages   mb_used  is_ultra\n",
       "0   40.0   311.90      83.0  19915.42         0\n",
       "1   85.0   516.75      56.0  22696.96         0\n",
       "2   77.0   467.66      86.0  21060.45         0\n",
       "3  106.0   745.53      81.0   8437.39         1\n",
       "4   66.0   418.74       1.0  14502.75         0"
      ]
     },
     "execution_count": 3,
     "metadata": {},
     "output_type": "execute_result"
    }
   ],
   "source": [
    "df.head()"
   ]
  },
  {
   "cell_type": "code",
   "execution_count": 4,
   "metadata": {},
   "outputs": [
    {
     "name": "stdout",
     "output_type": "stream",
     "text": [
      "<class 'pandas.core.frame.DataFrame'>\n",
      "RangeIndex: 3214 entries, 0 to 3213\n",
      "Data columns (total 5 columns):\n",
      " #   Column    Non-Null Count  Dtype  \n",
      "---  ------    --------------  -----  \n",
      " 0   calls     3214 non-null   float64\n",
      " 1   minutes   3214 non-null   float64\n",
      " 2   messages  3214 non-null   float64\n",
      " 3   mb_used   3214 non-null   float64\n",
      " 4   is_ultra  3214 non-null   int64  \n",
      "dtypes: float64(4), int64(1)\n",
      "memory usage: 125.7 KB\n"
     ]
    }
   ],
   "source": [
    "df.info()"
   ]
  },
  {
   "cell_type": "code",
   "execution_count": 5,
   "metadata": {},
   "outputs": [
    {
     "data": {
      "text/plain": [
       "0"
      ]
     },
     "execution_count": 5,
     "metadata": {},
     "output_type": "execute_result"
    }
   ],
   "source": [
    "df.duplicated().sum()"
   ]
  },
  {
   "cell_type": "markdown",
   "metadata": {},
   "source": [
    "<div class=\"alert alert-block alert-success\">\n",
    "\n",
    "<b>Comentario del revisor. (Iteración 1)\n",
    "    \n",
    "Excelente implementación de importaciones y carga de datos. Felicitaciones por mantener los procesos en celdas separadas y por agregar métodos que nos permitan ver la composición de los datos como así corroborar la existencia de acsos duplicados!\n",
    "</b> <a class=\"tocSkip\"></a>\n"
   ]
  },
  {
   "cell_type": "markdown",
   "metadata": {},
   "source": [
    "# 2.- Segmentar datos en un conjunto de entrenamiento, uno de validación y uno de prueba"
   ]
  },
  {
   "cell_type": "code",
   "execution_count": 6,
   "metadata": {},
   "outputs": [],
   "source": [
    "# Dividir los datos en características (X) y la etiqueta (y)\n",
    "X = df.drop('is_ultra', axis=1)  # Suponiendo que la columna 'is_ultra' es la que queremos predecir\n",
    "y = df['is_ultra']\n"
   ]
  },
  {
   "cell_type": "code",
   "execution_count": 7,
   "metadata": {},
   "outputs": [],
   "source": [
    "# Dividir en conjunto de entrenamiento + validación (80%) y prueba (20%)\n",
    "X_train_val, X_test, y_train_val, y_test = train_test_split(X, y, test_size=0.2, random_state=54321)\n",
    "\n",
    "# Dividir el conjunto de entrenamiento + validación en conjunto de entrenamiento (60%) y validación (20%)\n",
    "X_train, X_val, y_train, y_val = train_test_split(X_train_val, y_train_val, test_size=0.25, random_state=54321)\n",
    "\n"
   ]
  },
  {
   "cell_type": "code",
   "execution_count": 8,
   "metadata": {},
   "outputs": [
    {
     "name": "stdout",
     "output_type": "stream",
     "text": [
      "Conjunto de entrenamiento: (1928, 4), (1928,)\n",
      "Conjunto de validación: (643, 4), (643,)\n",
      "Conjunto de prueba: (643, 4), (643,)\n"
     ]
    }
   ],
   "source": [
    "# Verificar las formas de los conjuntos de datos\n",
    "print(f'Conjunto de entrenamiento: {X_train.shape}, {y_train.shape}')\n",
    "print(f'Conjunto de validación: {X_val.shape}, {y_val.shape}')\n",
    "print(f'Conjunto de prueba: {X_test.shape}, {y_test.shape}')"
   ]
  },
  {
   "cell_type": "markdown",
   "metadata": {},
   "source": [
    "<div class=\"alert alert-block alert-success\">\n",
    "\n",
    "<b>Comentario del revisor. (Iteración 1)\n",
    "    \n",
    "Procedimiento perfecto para la división del conjunto de datos en los 3 grupos correspondientes, bien hecho!</b> <a class=\"tocSkip\"></a>\n"
   ]
  },
  {
   "cell_type": "markdown",
   "metadata": {},
   "source": [
    "# 3.- Investigar la calidad de diferentes modelos cambiando los hiperparámetros y describir brevemente los hallazgos del estudio."
   ]
  },
  {
   "cell_type": "markdown",
   "metadata": {},
   "source": [
    "# Regresión logística"
   ]
  },
  {
   "cell_type": "code",
   "execution_count": 9,
   "metadata": {},
   "outputs": [
    {
     "name": "stdout",
     "output_type": "stream",
     "text": [
      "Logistic Regression Accuracy: 0.776049766718507\n"
     ]
    }
   ],
   "source": [
    "# Entrenar el modelo de regresión logística\n",
    "logreg = LogisticRegression(random_state=54321, C=0.5, solver='liblinear')\n",
    "logreg.fit(X_train, y_train)\n",
    "\n",
    "# Predecir en el conjunto de validación\n",
    "y_pred_logreg = logreg.predict(X_val)\n",
    "\n",
    "# Evaluar el rendimiento (y)\n",
    "print(\"Logistic Regression Accuracy:\", accuracy_score(y_val, y_pred_logreg))\n"
   ]
  },
  {
   "cell_type": "markdown",
   "metadata": {},
   "source": [
    "# Decision Tree"
   ]
  },
  {
   "cell_type": "code",
   "execution_count": 10,
   "metadata": {},
   "outputs": [
    {
     "name": "stdout",
     "output_type": "stream",
     "text": [
      "Decision Tree Classifier Accuracy: 0.8164852255054432\n"
     ]
    }
   ],
   "source": [
    "# Entrenar el modelo de DecisionTreeClassifier()\n",
    "tree = DecisionTreeClassifier(random_state=54321, max_depth=5, min_samples_split=10)\n",
    "tree.fit(X_train, y_train)\n",
    "\n",
    "# Predecir en el conjunto de validación\n",
    "y_pred_tree = tree.predict(X_val)\n",
    "\n",
    "#Evaluar el rendimiento (y)\n",
    "print(\"Decision Tree Classifier Accuracy:\", accuracy_score(y_val, y_pred_tree))"
   ]
  },
  {
   "cell_type": "markdown",
   "metadata": {},
   "source": [
    "# Random Forest"
   ]
  },
  {
   "cell_type": "code",
   "execution_count": 20,
   "metadata": {},
   "outputs": [
    {
     "name": "stdout",
     "output_type": "stream",
     "text": [
      "Random Forest Classifier Accuracy: 0.8320373250388803\n"
     ]
    }
   ],
   "source": [
    "# Entrenar el modelo de RandomForestClassifier()\n",
    "forest = RandomForestClassifier(random_state=54321, n_estimators=80)\n",
    "forest.fit(X_train, y_train)\n",
    "# Predecir en el conjunto de validación\n",
    "y_pred_forest = forest.predict(X_val)\n",
    "#Evaluar el rendimiento (y)\n",
    "print(\"Random Forest Classifier Accuracy:\", accuracy_score(y_val, y_pred_forest))"
   ]
  },
  {
   "cell_type": "markdown",
   "metadata": {},
   "source": [
    "<div class=\"alert alert-block alert-success\">\n",
    "\n",
    "<b>Comentario del revisor. (Iteración 1)\n",
    "    \n",
    "Excelentes declaraciones de los modelos juntos a los usados de datos correspondientes como a la vez elección de métricas! Bien hecho!</b> <a class=\"tocSkip\"></a>\n"
   ]
  },
  {
   "cell_type": "markdown",
   "metadata": {},
   "source": [
    "<div class=\"alert alert-block alert-success\">\n",
    "\n",
    "<b>Comentario del revisor. (Iteración 1)\n",
    "    \n",
    "Si bien aquí los procedimientos son perfectos Diego, deberíamos de tratar de agregar el uso de diferentes hiperparametros al menos en alguno de los modelos, tratemos de agregar al menos 2 hiperparametros en alguno de los modelos.\n",
    "    \n",
    "    Agregados perfectos, bien hecho Diego!</b> <a class=\"tocSkip\"></a>\n"
   ]
  },
  {
   "cell_type": "markdown",
   "metadata": {},
   "source": [
    "Nos quedaremos con Random Forest ya que es el que tiene mayor precisión"
   ]
  },
  {
   "cell_type": "markdown",
   "metadata": {},
   "source": [
    "# 4.- Comprobar la calidad del modelo usando el conjunto de prueba"
   ]
  },
  {
   "cell_type": "code",
   "execution_count": 21,
   "metadata": {},
   "outputs": [
    {
     "name": "stdout",
     "output_type": "stream",
     "text": [
      "Random Forest Test Accuracy: 0.7947122861586314\n"
     ]
    }
   ],
   "source": [
    "# Predecir en el conjunto de prueba\n",
    "y_test_pred_forest = forest.predict(X_test)\n",
    "\n",
    "# Evaluar el rendimiento\n",
    "print(\"Random Forest Test Accuracy:\", accuracy_score(y_test, y_test_pred_forest))\n"
   ]
  },
  {
   "cell_type": "markdown",
   "metadata": {},
   "source": [
    "<div class=\"alert alert-block alert-warning\">\n",
    "\n",
    "<b>Comentario del revisor. (Iteración 1)\n",
    "    \n",
    "Aquí excelente decisión la de evaluar con el tercer conjunto! Solo tengamos en cuenta que lo correcto no sería evaluar todos los modelos contra el tercer conjunto sino que solamente debemos evalura el modelo que mejor reusltados dió.</b> <a class=\"tocSkip\"></a>\n"
   ]
  },
  {
   "cell_type": "markdown",
   "metadata": {},
   "source": [
    "Como ya habiamos concluido antes Random Forest sería el modelo que mejor predice"
   ]
  },
  {
   "cell_type": "markdown",
   "metadata": {},
   "source": [
    "# 5.-Prueba de cordura"
   ]
  },
  {
   "cell_type": "code",
   "execution_count": 22,
   "metadata": {},
   "outputs": [
    {
     "name": "stdout",
     "output_type": "stream",
     "text": [
      "Dummy Classifier Accuracy: 0.7153965785381027\n"
     ]
    }
   ],
   "source": [
    "from sklearn.dummy import DummyClassifier\n",
    "from sklearn.metrics import accuracy_score\n",
    "\n",
    "# Crear un DummyClassifier con la estrategia 'most_frequent'\n",
    "dummy_clf = DummyClassifier(strategy=\"most_frequent\", random_state=54321)\n",
    "dummy_clf.fit(X_train, y_train)\n",
    "\n",
    "# Predecir en el conjunto de validación\n",
    "y_val_pred_dummy = dummy_clf.predict(X_val)\n",
    "\n",
    "# Calcular la precisión\n",
    "print(\"Dummy Classifier Accuracy:\", accuracy_score(y_val, y_val_pred_dummy))"
   ]
  },
  {
   "cell_type": "markdown",
   "metadata": {},
   "source": [
    "<div class=\"alert alert-block alert-warning\">\n",
    "\n",
    "<b>Comentario del revisor. (Iteración 1)\n",
    "    \n",
    "Y como siempre se recomienda exelente al crear un modelo de cordura para corroborar la validez del modelo, te recomiendo investigar el uso de DummyClassifier que suele ser el modelo más acorde para estas pruebas.</b> <a class=\"tocSkip\"></a>\n"
   ]
  },
  {
   "cell_type": "code",
   "execution_count": null,
   "metadata": {},
   "outputs": [],
   "source": []
  }
 ],
 "metadata": {
  "ExecuteTimeLog": [
   {
    "duration": 565,
    "start_time": "2024-08-18T20:17:24.545Z"
   },
   {
    "duration": 1071,
    "start_time": "2024-08-18T20:19:34.240Z"
   },
   {
    "duration": 13,
    "start_time": "2024-08-18T20:20:54.205Z"
   },
   {
    "duration": 19,
    "start_time": "2024-08-18T20:21:01.966Z"
   },
   {
    "duration": 18,
    "start_time": "2024-08-18T20:21:12.714Z"
   },
   {
    "duration": 13,
    "start_time": "2024-08-18T20:21:31.723Z"
   },
   {
    "duration": 23,
    "start_time": "2024-08-18T20:21:40.112Z"
   },
   {
    "duration": 13,
    "start_time": "2024-08-18T20:21:46.225Z"
   },
   {
    "duration": 639,
    "start_time": "2024-08-18T20:25:39.361Z"
   },
   {
    "duration": 14,
    "start_time": "2024-08-18T20:27:31.528Z"
   },
   {
    "duration": 1408,
    "start_time": "2024-08-18T20:28:09.961Z"
   },
   {
    "duration": 8,
    "start_time": "2024-08-18T20:31:57.878Z"
   },
   {
    "duration": 22,
    "start_time": "2024-08-18T20:32:52.005Z"
   },
   {
    "duration": 10,
    "start_time": "2024-08-18T20:32:59.115Z"
   },
   {
    "duration": 14,
    "start_time": "2024-08-18T20:33:12.825Z"
   },
   {
    "duration": 5,
    "start_time": "2024-08-18T20:33:51.086Z"
   },
   {
    "duration": 5,
    "start_time": "2024-08-18T20:37:58.394Z"
   },
   {
    "duration": 9,
    "start_time": "2024-08-18T20:38:00.189Z"
   },
   {
    "duration": 4,
    "start_time": "2024-08-18T20:38:07.727Z"
   },
   {
    "duration": 52,
    "start_time": "2024-08-18T20:39:47.201Z"
   },
   {
    "duration": 5,
    "start_time": "2024-08-18T20:40:42.908Z"
   },
   {
    "duration": 52,
    "start_time": "2024-08-18T20:45:18.077Z"
   },
   {
    "duration": 4,
    "start_time": "2024-08-18T20:45:48.356Z"
   },
   {
    "duration": 29,
    "start_time": "2024-08-18T20:45:53.885Z"
   },
   {
    "duration": 23,
    "start_time": "2024-08-18T20:46:04.467Z"
   },
   {
    "duration": 5,
    "start_time": "2024-08-18T20:46:12.432Z"
   },
   {
    "duration": 25,
    "start_time": "2024-08-18T20:50:02.682Z"
   },
   {
    "duration": 21,
    "start_time": "2024-08-18T20:50:16.698Z"
   },
   {
    "duration": 26,
    "start_time": "2024-08-18T20:53:32.307Z"
   },
   {
    "duration": 529,
    "start_time": "2024-08-18T20:53:40.019Z"
   },
   {
    "duration": 30,
    "start_time": "2024-08-18T20:56:32.767Z"
   },
   {
    "duration": 7,
    "start_time": "2024-08-18T20:57:15.993Z"
   },
   {
    "duration": 8,
    "start_time": "2024-08-18T20:57:26.833Z"
   },
   {
    "duration": 7,
    "start_time": "2024-08-18T20:57:57.052Z"
   },
   {
    "duration": 539,
    "start_time": "2024-08-18T20:59:43.219Z"
   },
   {
    "duration": 598,
    "start_time": "2024-08-18T21:01:36.132Z"
   },
   {
    "duration": 8,
    "start_time": "2024-08-18T21:02:14.184Z"
   },
   {
    "duration": 1267,
    "start_time": "2024-08-21T01:49:38.137Z"
   },
   {
    "duration": 20,
    "start_time": "2024-08-21T01:49:39.408Z"
   },
   {
    "duration": 21,
    "start_time": "2024-08-21T01:49:39.430Z"
   },
   {
    "duration": 15,
    "start_time": "2024-08-21T01:49:39.456Z"
   },
   {
    "duration": 9,
    "start_time": "2024-08-21T01:49:39.476Z"
   },
   {
    "duration": 5,
    "start_time": "2024-08-21T01:49:39.527Z"
   },
   {
    "duration": 9,
    "start_time": "2024-08-21T01:49:39.535Z"
   },
   {
    "duration": 6,
    "start_time": "2024-08-21T01:49:39.547Z"
   },
   {
    "duration": 19,
    "start_time": "2024-08-21T01:49:39.556Z"
   },
   {
    "duration": 61,
    "start_time": "2024-08-21T01:49:39.578Z"
   },
   {
    "duration": 134,
    "start_time": "2024-08-21T01:49:39.642Z"
   },
   {
    "duration": 12,
    "start_time": "2024-08-21T01:49:39.779Z"
   },
   {
    "duration": 32,
    "start_time": "2024-08-21T01:49:39.794Z"
   },
   {
    "duration": 8,
    "start_time": "2024-08-21T01:49:39.832Z"
   },
   {
    "duration": 600,
    "start_time": "2024-08-21T01:49:39.846Z"
   },
   {
    "duration": 378,
    "start_time": "2024-08-21T01:50:06.903Z"
   },
   {
    "duration": 534,
    "start_time": "2024-08-21T01:50:10.890Z"
   },
   {
    "duration": 1076,
    "start_time": "2024-08-21T01:50:17.725Z"
   },
   {
    "duration": 479,
    "start_time": "2024-08-21T01:50:23.798Z"
   },
   {
    "duration": 425,
    "start_time": "2024-08-21T01:50:30.376Z"
   },
   {
    "duration": 22,
    "start_time": "2024-08-21T01:51:27.651Z"
   },
   {
    "duration": 8,
    "start_time": "2024-08-21T01:52:51.489Z"
   }
  ],
  "kernelspec": {
   "display_name": "Python 3 (ipykernel)",
   "language": "python",
   "name": "python3"
  },
  "language_info": {
   "codemirror_mode": {
    "name": "ipython",
    "version": 3
   },
   "file_extension": ".py",
   "mimetype": "text/x-python",
   "name": "python",
   "nbconvert_exporter": "python",
   "pygments_lexer": "ipython3",
   "version": "3.9.19"
  },
  "toc": {
   "base_numbering": 1,
   "nav_menu": {},
   "number_sections": true,
   "sideBar": true,
   "skip_h1_title": true,
   "title_cell": "Table of Contents",
   "title_sidebar": "Contents",
   "toc_cell": false,
   "toc_position": {},
   "toc_section_display": true,
   "toc_window_display": false
  }
 },
 "nbformat": 4,
 "nbformat_minor": 2
}
